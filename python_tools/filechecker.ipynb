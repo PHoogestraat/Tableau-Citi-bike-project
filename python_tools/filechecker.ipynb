{
 "cells": [
  {
   "cell_type": "code",
   "execution_count": 1,
   "metadata": {},
   "outputs": [],
   "source": [
    "import os\n",
    "from os import chdir\n",
    "import numpy as np\n",
    "import pandas as pd\n",
    "import csv "
   ]
  },
  {
   "cell_type": "code",
   "execution_count": 68,
   "metadata": {},
   "outputs": [],
   "source": [
    "# Start here everytime\n",
    "# cleans up header\n",
    "# creates new file\n",
    "# deletes old one"
   ]
  },
  {
   "cell_type": "code",
   "execution_count": 69,
   "metadata": {},
   "outputs": [
    {
     "data": {
      "text/plain": [
       "'2016b/'"
      ]
     },
     "execution_count": 69,
     "metadata": {},
     "output_type": "execute_result"
    }
   ],
   "source": [
    "fileYear = \"2016b/\"\n",
    "fileYear "
   ]
  },
  {
   "cell_type": "code",
   "execution_count": 70,
   "metadata": {},
   "outputs": [
    {
     "data": {
      "text/plain": [
       "['01new201602-citibike-tripdata.csv',\n",
       " '01new201603-citibike-tripdata.csv',\n",
       " '01new201604-citibike-tripdata.csv',\n",
       " '01new201605-citibike-tripdata.csv',\n",
       " '01new201606-citibike-tripdata.csv',\n",
       " '01new201607-citibike-tripdata.csv',\n",
       " '01new201608-citibike-tripdata.csv',\n",
       " '01new201609-citibike-tripdata.csv',\n",
       " '01new201610-citibike-tripdata.csv',\n",
       " '01new201611-citibike-tripdata.csv',\n",
       " '01new201612-citibike-tripdata.csv',\n",
       " '201601-citibike-tripdata.csv']"
      ]
     },
     "execution_count": 70,
     "metadata": {},
     "output_type": "execute_result"
    }
   ],
   "source": [
    "newdir = os.listdir(fileYear)\n",
    "newdir"
   ]
  },
  {
   "cell_type": "code",
   "execution_count": 71,
   "metadata": {},
   "outputs": [
    {
     "data": {
      "text/plain": [
       "'201601-citibike-tripdata.csv'"
      ]
     },
     "execution_count": 71,
     "metadata": {},
     "output_type": "execute_result"
    }
   ],
   "source": [
    "newdir = os.listdir(fileYear)\n",
    "target_file = newdir.pop()\n",
    "target_file"
   ]
  },
  {
   "cell_type": "code",
   "execution_count": 72,
   "metadata": {},
   "outputs": [],
   "source": [
    "\n",
    "\n",
    "file_Name_replace= target_file\n",
    "path_and_file = fileYear + file_Name_replace\n",
    "#path_and_file\n",
    "books_df = pd.read_csv(path_and_file, encoding=\"utf-8\")\n",
    "\n",
    "renamed_df = books_df.rename(columns={\"Trip Duration\":'tripduration',\n",
    "                                        \"Start Time\":'starttime',\n",
    "                                        \"Stop Time\": 'stoptime',\n",
    "                                        \"Start Station ID\": 'start station id',\n",
    "                                        \"Start Station Name\":'start station name',\n",
    "                                        'Start Station Latitude': 'start station latitude',\n",
    "                                        'Start Station Longitude': 'start station longitude',\n",
    "                                        'End Station ID': 'end station id',\n",
    "                                        'End Station Name': 'end station name',\n",
    "                                        'End Station Latitude': 'end station latitude',\n",
    "                                        'End Station Longitude':'end station longitude',\n",
    "                                        'Bike ID': 'bikeid',\n",
    "                                        'User Type':'usertype', \n",
    "                                        'Birth Year': 'birth year',\n",
    "                                        'Gender': 'gender',})\n",
    "\n",
    "cleaned = fileYear + '01new' + file_Name_replace \n",
    "\n",
    " # Push the remade DataFrame to a new CSV file\n",
    "renamed_df.to_csv(cleaned,\n",
    "                  encoding=\"utf-8\", index=False, header=True)\n",
    "#remove old file\n",
    "os.remove(path_and_file)"
   ]
  },
  {
   "cell_type": "code",
   "execution_count": null,
   "metadata": {},
   "outputs": [],
   "source": []
  },
  {
   "cell_type": "code",
   "execution_count": 73,
   "metadata": {},
   "outputs": [],
   "source": [
    "#########################"
   ]
  },
  {
   "cell_type": "code",
   "execution_count": null,
   "metadata": {},
   "outputs": [],
   "source": []
  },
  {
   "cell_type": "code",
   "execution_count": null,
   "metadata": {},
   "outputs": [],
   "source": [
    "#file_Name_replace= target_file"
   ]
  },
  {
   "cell_type": "code",
   "execution_count": null,
   "metadata": {},
   "outputs": [],
   "source": [
    "#path_and_file = fileYear + file_Name_replace\n",
    "#path_and_file"
   ]
  },
  {
   "cell_type": "code",
   "execution_count": null,
   "metadata": {},
   "outputs": [],
   "source": [
    "books_df = pd.read_csv(path_and_file, encoding=\"utf-8\")\n",
    "#books_df.head()"
   ]
  },
  {
   "cell_type": "code",
   "execution_count": null,
   "metadata": {},
   "outputs": [],
   "source": [
    "# Rename the headers to match origanl headers--- not as nice\n",
    "renamed_df = books_df.rename(columns={\"Trip Duration\":'tripduration',\n",
    "                                        \"Start Time\":'starttime',\n",
    "                                        \"Stop Time\": 'stoptime',\n",
    "                                        \"Start Station ID\": 'start station id',\n",
    "                                        \"Start Station Name\":'start station name',\n",
    "                                        'Start Station Latitude': 'start station latitude',\n",
    "                                        'Start Station Longitude': 'start station latitude',\n",
    "                                        'End Station ID': 'end station id',\n",
    "                                        'End Station Name': 'end station name',\n",
    "                                        'End Station Latitude': 'end station latitude',\n",
    "                                        'End Station Longitude':'end station longitude',\n",
    "                                        'Bike ID': 'bikeid',\n",
    "                                        'User Type':'usertype', \n",
    "                                        'Birth Year': 'birth year',\n",
    "                                        'Gender': 'gender',})\n",
    "#renamed_df.head()"
   ]
  },
  {
   "cell_type": "code",
   "execution_count": null,
   "metadata": {},
   "outputs": [],
   "source": [
    "cleaned = fileYear + '01new' + file_Name_replace \n",
    "cleaned "
   ]
  },
  {
   "cell_type": "code",
   "execution_count": null,
   "metadata": {},
   "outputs": [],
   "source": [
    " # Push the remade DataFrame to a new CSV file\n",
    "renamed_df.to_csv(cleaned,\n",
    "                  encoding=\"utf-8\", index=False, header=True)"
   ]
  },
  {
   "cell_type": "code",
   "execution_count": null,
   "metadata": {},
   "outputs": [],
   "source": [
    "os.remove(path_and_file)"
   ]
  },
  {
   "cell_type": "code",
   "execution_count": null,
   "metadata": {},
   "outputs": [],
   "source": []
  },
  {
   "cell_type": "code",
   "execution_count": null,
   "metadata": {},
   "outputs": [],
   "source": [
    "#########################"
   ]
  },
  {
   "cell_type": "code",
   "execution_count": null,
   "metadata": {},
   "outputs": [],
   "source": []
  },
  {
   "cell_type": "code",
   "execution_count": null,
   "metadata": {},
   "outputs": [],
   "source": [
    "\"Start Station Latitude\"\n",
    "\"Start Station Longitude\"\n",
    "\"End Station ID\"\n",
    "End Station Name"
   ]
  },
  {
   "cell_type": "code",
   "execution_count": null,
   "metadata": {},
   "outputs": [],
   "source": [
    "path = fileYear + \"ConsolidateOutput.csv\"\n",
    "path"
   ]
  },
  {
   "cell_type": "code",
   "execution_count": null,
   "metadata": {},
   "outputs": [],
   "source": [
    " # Read our Data file with the pandas library\n",
    "# Not every CSV requires an encoding, but be aware this can come up\n",
    "CheckCSV_df = pd.read_csv(path, low_memory=False)"
   ]
  },
  {
   "cell_type": "code",
   "execution_count": null,
   "metadata": {
    "scrolled": true
   },
   "outputs": [],
   "source": [
    " # Show just the header\n",
    "CheckCSV_df.head()"
   ]
  },
  {
   "cell_type": "code",
   "execution_count": null,
   "metadata": {},
   "outputs": [],
   "source": [
    " # Rename columns for readability\n",
    "hey_arnold_renamed_df = hey_arnold_df.rename(columns={\"Character_in_show\": \"\",\n",
    "                                                \"color_of_hair\": \"Hair Color\",\n",
    "                                                \"Height\": \"Height\",\n",
    "                                                \"Football_Shaped_Head\": \"Football Head\"\n",
    "                                                })\n",
    "hey_arnold_renamed_df"
   ]
  }
 ],
 "metadata": {
  "kernelspec": {
   "display_name": "Python [conda env:PythonData]",
   "language": "python",
   "name": "conda-env-PythonData-py"
  },
  "language_info": {
   "codemirror_mode": {
    "name": "ipython",
    "version": 3
   },
   "file_extension": ".py",
   "mimetype": "text/x-python",
   "name": "python",
   "nbconvert_exporter": "python",
   "pygments_lexer": "ipython3",
   "version": "3.6.10"
  }
 },
 "nbformat": 4,
 "nbformat_minor": 4
}
