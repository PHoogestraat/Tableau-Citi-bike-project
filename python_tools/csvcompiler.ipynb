{
 "cells": [
  {
   "cell_type": "code",
   "execution_count": 1,
   "metadata": {},
   "outputs": [],
   "source": [
    "import os\n",
    "from os import chdir\n",
    "from glob import glob\n",
    "import pandas as pd\n",
    "import csv \n",
    "import numpy as np\n"
   ]
  },
  {
   "cell_type": "code",
   "execution_count": 2,
   "metadata": {},
   "outputs": [],
   "source": [
    "#file_one = \"2013/2013_06_citibike_tripdata.csv\" "
   ]
  },
  {
   "cell_type": "code",
   "execution_count": 3,
   "metadata": {},
   "outputs": [],
   "source": [
    " # Read our Data file with the pandas library\n",
    "# Not every CSV requires an encoding, but be aware this can come up\n",
    "#file_one_df = pd.read_csv(file_one)"
   ]
  },
  {
   "cell_type": "code",
   "execution_count": 4,
   "metadata": {},
   "outputs": [],
   "source": [
    " # Export file as a CSV, without the Pandas index, but with the header\n",
    "#file_one_df.to_csv(\"Output/fileOne.csv\", index=False, header=True)"
   ]
  },
  {
   "cell_type": "code",
   "execution_count": 5,
   "metadata": {},
   "outputs": [
    {
     "data": {
      "text/plain": [
       "'2016b/'"
      ]
     },
     "execution_count": 5,
     "metadata": {},
     "output_type": "execute_result"
    }
   ],
   "source": [
    "fileYear = \"2016b/\"\n",
    "fileYear "
   ]
  },
  {
   "cell_type": "code",
   "execution_count": 6,
   "metadata": {},
   "outputs": [
    {
     "data": {
      "text/plain": [
       "['01new201601-citibike-tripdata.csv',\n",
       " '01new201602-citibike-tripdata.csv',\n",
       " '01new201603-citibike-tripdata.csv',\n",
       " '01new201604-citibike-tripdata.csv',\n",
       " '01new201605-citibike-tripdata.csv',\n",
       " '01new201606-citibike-tripdata.csv',\n",
       " '01new201607-citibike-tripdata.csv',\n",
       " '01new201608-citibike-tripdata.csv',\n",
       " '01new201609-citibike-tripdata.csv',\n",
       " '01new201610-citibike-tripdata.csv',\n",
       " '01new201611-citibike-tripdata.csv',\n",
       " '01new201612-citibike-tripdata.csv']"
      ]
     },
     "execution_count": 6,
     "metadata": {},
     "output_type": "execute_result"
    }
   ],
   "source": [
    "paths = os.listdir(fileYear)\n",
    "paths"
   ]
  },
  {
   "cell_type": "code",
   "execution_count": 7,
   "metadata": {},
   "outputs": [],
   "source": [
    "#import glob"
   ]
  },
  {
   "cell_type": "code",
   "execution_count": 8,
   "metadata": {},
   "outputs": [],
   "source": [
    "#glob.glob(\"2013/*.csv\")"
   ]
  },
  {
   "cell_type": "code",
   "execution_count": 9,
   "metadata": {},
   "outputs": [],
   "source": [
    "# Move to the path that holds our CSV files\n",
    "csv_file_path = fileYear\n",
    "chdir(csv_file_path)"
   ]
  },
  {
   "cell_type": "code",
   "execution_count": 10,
   "metadata": {},
   "outputs": [
    {
     "name": "stdout",
     "output_type": "stream",
     "text": [
      "['01new201601-citibike-tripdata.csv', '01new201602-citibike-tripdata.csv', '01new201603-citibike-tripdata.csv', '01new201604-citibike-tripdata.csv', '01new201605-citibike-tripdata.csv', '01new201606-citibike-tripdata.csv', '01new201607-citibike-tripdata.csv', '01new201608-citibike-tripdata.csv', '01new201609-citibike-tripdata.csv', '01new201610-citibike-tripdata.csv', '01new201611-citibike-tripdata.csv', '01new201612-citibike-tripdata.csv']\n"
     ]
    }
   ],
   "source": [
    "# Produce a single CSV after combining all files\n",
    "def produceOneCSV(list_of_files, file_out):\n",
    "   # Consolidate all CSV files into one object\n",
    "   result_obj = pd.concat([pd.read_csv(file).dropna() for file in list_of_files])\n",
    "   \n",
    "   # Convert the above object into a csv file and export\n",
    "   result_obj.to_csv(file_out, index=False, encoding=\"utf-8\")\n",
    "\n",
    "# Move to the path that holds our CSV files\n",
    "#csv_file_path = 'C:/Users/phoog/Desktop/cit_bike_homwork/2013'\n",
    "#chdir(csv_file_path)\n",
    "\n",
    "# List all CSV files in the working dir\n",
    "#file_pattern = \".csv\"\n",
    "list_of_files = paths\n",
    "print(list_of_files)\n",
    "\n",
    "file_out = \"ConsolidateOutput.csv\"\n",
    "produceOneCSV(list_of_files, file_out)\n"
   ]
  },
  {
   "cell_type": "code",
   "execution_count": null,
   "metadata": {},
   "outputs": [],
   "source": [
    "paths = os.listdir(fileYear)\n",
    "paths"
   ]
  },
  {
   "cell_type": "code",
   "execution_count": null,
   "metadata": {},
   "outputs": [],
   "source": [
    "newdir = os.listdir(fileYear)\n",
    "newdir"
   ]
  },
  {
   "cell_type": "code",
   "execution_count": null,
   "metadata": {},
   "outputs": [],
   "source": [
    "consolidated_file_path = fileYear + file_out\n",
    "consolidated_file_path"
   ]
  },
  {
   "cell_type": "code",
   "execution_count": null,
   "metadata": {},
   "outputs": [],
   "source": [
    "\n",
    "books_df = pd.read_csv(consolidated_file_path, encoding=\"utf-8\")\n",
    "books_df.head()"
   ]
  },
  {
   "cell_type": "code",
   "execution_count": null,
   "metadata": {},
   "outputs": [],
   "source": [
    "CheckCSV = fileYear + \"ConsolidateOutput.csv\"\n",
    "CheckCSV"
   ]
  },
  {
   "cell_type": "code",
   "execution_count": null,
   "metadata": {},
   "outputs": [],
   "source": []
  },
  {
   "cell_type": "code",
   "execution_count": null,
   "metadata": {},
   "outputs": [],
   "source": [
    " # Read our Data file with the pandas library\n",
    "# Not every CSV requires an encoding, but be aware this can come up\n",
    "CheckCSV_df = pd.read_csv(CheckCSV)"
   ]
  },
  {
   "cell_type": "code",
   "execution_count": null,
   "metadata": {},
   "outputs": [],
   "source": [
    "CheckCsv_df.head()"
   ]
  },
  {
   "cell_type": "code",
   "execution_count": null,
   "metadata": {},
   "outputs": [],
   "source": [
    "#file_out(\"Output/ConsolidateOutput.csv\", index=False, header=True)"
   ]
  },
  {
   "cell_type": "code",
   "execution_count": null,
   "metadata": {},
   "outputs": [],
   "source": [
    " # Export file as a CSV, without the Pandas index, but with the header\n",
    "#file_out(\"Output/fileOne.csv\", index=False, header=True)"
   ]
  },
  {
   "cell_type": "code",
   "execution_count": null,
   "metadata": {},
   "outputs": [],
   "source": []
  },
  {
   "cell_type": "code",
   "execution_count": null,
   "metadata": {},
   "outputs": [],
   "source": []
  }
 ],
 "metadata": {
  "kernelspec": {
   "display_name": "Python [conda env:PythonData]",
   "language": "python",
   "name": "conda-env-PythonData-py"
  },
  "language_info": {
   "codemirror_mode": {
    "name": "ipython",
    "version": 3
   },
   "file_extension": ".py",
   "mimetype": "text/x-python",
   "name": "python",
   "nbconvert_exporter": "python",
   "pygments_lexer": "ipython3",
   "version": "3.6.10"
  }
 },
 "nbformat": 4,
 "nbformat_minor": 4
}
